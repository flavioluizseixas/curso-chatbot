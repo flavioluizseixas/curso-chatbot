{
  "cells": [
    {
      "cell_type": "markdown",
      "metadata": {
        "colab_type": "text",
        "id": "view-in-github"
      },
      "source": [
        "<a href=\"https://colab.research.google.com/github/flavioluizseixas/curso-chatbot/blob/main/1.BasicoProgramacao/Projeto1.ipynb\" target=\"_parent\"><img src=\"https://colab.research.google.com/assets/colab-badge.svg\" alt=\"Open In Colab\"/></a>"
      ]
    },
    {
      "cell_type": "code",
      "execution_count": 1,
      "metadata": {
        "id": "bEq8j1iA7Da6"
      },
      "outputs": [],
      "source": [
        "# Solução do Projeto: Calculadora de Idade\n",
        "\n",
        "# Solicita o nome e o ano de nascimento do usuário\n",
        "nome = input(\"Digite o seu nome: \")\n",
        "ano_nascimento = int(input(\"Digite o ano em que você nasceu: \"))"
      ]
    },
    {
      "cell_type": "code",
      "execution_count": 2,
      "metadata": {},
      "outputs": [],
      "source": [
        "# Calcula a idade\n",
        "ano_atual = 2024  # Ano atual\n",
        "idade = ano_atual - ano_nascimento"
      ]
    },
    {
      "cell_type": "code",
      "execution_count": 3,
      "metadata": {},
      "outputs": [
        {
          "name": "stdout",
          "output_type": "stream",
          "text": [
            "Olá, Flavio, você tem 50 anos.\n"
          ]
        }
      ],
      "source": [
        "# Exibe a mensagem com a idade calculada\n",
        "print(f\"Olá, {nome}, você tem {idade} anos.\")"
      ]
    }
  ],
  "metadata": {
    "colab": {
      "authorship_tag": "ABX9TyPv4+kA2riMdFEGh+Ba70LA",
      "include_colab_link": true,
      "provenance": []
    },
    "kernelspec": {
      "display_name": "Python 3",
      "name": "python3"
    },
    "language_info": {
      "codemirror_mode": {
        "name": "ipython",
        "version": 3
      },
      "file_extension": ".py",
      "mimetype": "text/x-python",
      "name": "python",
      "nbconvert_exporter": "python",
      "pygments_lexer": "ipython3",
      "version": "3.11.5"
    }
  },
  "nbformat": 4,
  "nbformat_minor": 0
}
