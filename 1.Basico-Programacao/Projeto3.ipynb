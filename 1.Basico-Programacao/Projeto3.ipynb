{
  "cells": [
    {
      "cell_type": "markdown",
      "metadata": {
        "colab_type": "text",
        "id": "view-in-github"
      },
      "source": [
        "<a href=\"https://colab.research.google.com/github/flavioluizseixas/curso-chatbot/blob/main/1.BasicoProgramacao/Projeto3.ipynb\" target=\"_parent\"><img src=\"https://colab.research.google.com/assets/colab-badge.svg\" alt=\"Open In Colab\"/></a>"
      ]
    },
    {
      "cell_type": "code",
      "execution_count": 2,
      "metadata": {
        "id": "bEq8j1iA7Da6"
      },
      "outputs": [],
      "source": [
        "# Solução do Projeto: Jogo de Adivinhação\n",
        "\n",
        "import random"
      ]
    },
    {
      "cell_type": "code",
      "execution_count": 3,
      "metadata": {},
      "outputs": [],
      "source": [
        "\n",
        "# Define o número a ser adivinhado (entre 1 e 10)\n",
        "numero_correto = random.randint(1, 10)"
      ]
    },
    {
      "cell_type": "code",
      "execution_count": 4,
      "metadata": {},
      "outputs": [],
      "source": [
        "# Solicita uma tentativa do usuário\n",
        "adivinhacao = int(input(\"Adivinhe um número entre 1 e 10: \"))"
      ]
    },
    {
      "cell_type": "code",
      "execution_count": 5,
      "metadata": {},
      "outputs": [
        {
          "name": "stdout",
          "output_type": "stream",
          "text": [
            "Você errou! O número correto era 3. Tente novamente.\n"
          ]
        }
      ],
      "source": [
        "# Compara a tentativa com o número correto\n",
        "if adivinhacao == numero_correto:\n",
        "    print(\"Você acertou!\")\n",
        "else:\n",
        "    print(f\"Você errou! O número correto era {numero_correto}. Tente novamente.\")"
      ]
    }
  ],
  "metadata": {
    "colab": {
      "authorship_tag": "ABX9TyPv4+kA2riMdFEGh+Ba70LA",
      "include_colab_link": true,
      "provenance": []
    },
    "kernelspec": {
      "display_name": "Python 3",
      "name": "python3"
    },
    "language_info": {
      "codemirror_mode": {
        "name": "ipython",
        "version": 3
      },
      "file_extension": ".py",
      "mimetype": "text/x-python",
      "name": "python",
      "nbconvert_exporter": "python",
      "pygments_lexer": "ipython3",
      "version": "3.11.5"
    }
  },
  "nbformat": 4,
  "nbformat_minor": 0
}
