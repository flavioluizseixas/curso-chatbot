{
  "cells": [
    {
      "cell_type": "markdown",
      "metadata": {
        "colab_type": "text",
        "id": "view-in-github"
      },
      "source": [
        "<a href=\"https://colab.research.google.com/github/flavioluizseixas/curso-chatbot/blob/main/1.BasicoProgramacao/Projeto2.ipynb\" target=\"_parent\"><img src=\"https://colab.research.google.com/assets/colab-badge.svg\" alt=\"Open In Colab\"/></a>"
      ]
    },
    {
      "cell_type": "code",
      "execution_count": 1,
      "metadata": {
        "id": "bEq8j1iA7Da6"
      },
      "outputs": [],
      "source": [
        "# Solução do Projeto: Lista de Compras Simples\n",
        "\n",
        "# Cria uma lista vazia para armazenar os itens\n",
        "lista_compras = []"
      ]
    },
    {
      "cell_type": "code",
      "execution_count": 2,
      "metadata": {},
      "outputs": [],
      "source": [
        "# Adiciona três itens à lista\n",
        "for i in range(3):\n",
        "    item = input(f\"Digite o item {i+1} para sua lista de compras: \")\n",
        "    lista_compras.append(item)"
      ]
    },
    {
      "cell_type": "code",
      "execution_count": 3,
      "metadata": {},
      "outputs": [
        {
          "name": "stdout",
          "output_type": "stream",
          "text": [
            "Sua lista de compras contém:\n",
            "- Arroz\n",
            "- Feijao\n",
            "- Carne\n"
          ]
        }
      ],
      "source": [
        "# Exibe a lista de compras\n",
        "print(\"Sua lista de compras contém:\")\n",
        "for item in lista_compras:\n",
        "    print(f\"- {item}\")"
      ]
    }
  ],
  "metadata": {
    "colab": {
      "authorship_tag": "ABX9TyPv4+kA2riMdFEGh+Ba70LA",
      "include_colab_link": true,
      "provenance": []
    },
    "kernelspec": {
      "display_name": "Python 3",
      "name": "python3"
    },
    "language_info": {
      "codemirror_mode": {
        "name": "ipython",
        "version": 3
      },
      "file_extension": ".py",
      "mimetype": "text/x-python",
      "name": "python",
      "nbconvert_exporter": "python",
      "pygments_lexer": "ipython3",
      "version": "3.11.5"
    }
  },
  "nbformat": 4,
  "nbformat_minor": 0
}
