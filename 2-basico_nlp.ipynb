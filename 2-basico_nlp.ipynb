{
 "cells": [
  {
   "cell_type": "code",
   "execution_count": 14,
   "metadata": {},
   "outputs": [],
   "source": [
    "import nltk\n",
    "from nltk.corpus import stopwords\n",
    "from nltk.stem import WordNetLemmatizer\n",
    "from nltk.tokenize import word_tokenize, sent_tokenize"
   ]
  },
  {
   "cell_type": "markdown",
   "metadata": {},
   "source": [
    "Exemplos de Recursos do NLTK:\n",
    "Tokenização e Segmentação de Frases:\n",
    "\n",
    "nltk.download('punkt'): Conjunto de modelos para tokenização de palavras e frases.\n",
    "Stopwords:\n",
    "\n",
    "nltk.download('stopwords'): Conjunto de listas de stopwords (palavras comuns) em vários idiomas.\n",
    "Lematização e Stemming:\n",
    "\n",
    "nltk.download('wordnet'): Conjunto de sinônimos em inglês, usado para lematização.\n",
    "nltk.download('omw-1.4'): Open Multilingual Wordnet, uma versão multilíngue do WordNet.\n",
    "Corpora Textuais:\n",
    "\n",
    "nltk.download('gutenberg'): Coleção de textos do Projeto Gutenberg.\n",
    "nltk.download('brown'): Corpus com textos categorizados por tópicos (notícias, ficção, etc.).\n",
    "nltk.download('reuters'): Conjunto de notícias da Reuters.\n",
    "nltk.download('movie_reviews'): Conjunto de análises de filmes, útil para tarefas de classificação de sentimento.\n",
    "Classificação e Rotulação:\n",
    "\n",
    "nltk.download('averaged_perceptron_tagger'): Modelo para rotulação gramatical de palavras (POS tagging).\n",
    "nltk.download('maxent_ne_chunker'): Modelo para reconhecimento de entidades nomeadas (NER).\n",
    "Parsing de Gramática e Sintaxe:\n",
    "\n",
    "nltk.download('treebank'): Corpus com análises sintáticas em formato de árvore.\n",
    "nltk.download('conll2000'): Conjunto de dados com gramática para chunking (identificação de frases).\n",
    "Tradução e Tradução Automática:\n",
    "\n",
    "nltk.download('omw'): Wordnet multilíngue, para lematização e tradução em diversos idiomas.\n",
    "Modelos Pré-Treinados:\n",
    "\n",
    "nltk.download('vader_lexicon'): Lexicon para análise de sentimento, muito usado em análise de textos curtos como tweets."
   ]
  },
  {
   "cell_type": "code",
   "execution_count": 15,
   "metadata": {},
   "outputs": [
    {
     "name": "stderr",
     "output_type": "stream",
     "text": [
      "[nltk_data] Downloading package punkt to /Users/fseixas/nltk_data...\n",
      "[nltk_data]   Package punkt is already up-to-date!\n",
      "[nltk_data] Downloading package stopwords to\n",
      "[nltk_data]     /Users/fseixas/nltk_data...\n",
      "[nltk_data]   Package stopwords is already up-to-date!\n",
      "[nltk_data] Downloading package wordnet to /Users/fseixas/nltk_data...\n",
      "[nltk_data]   Package wordnet is already up-to-date!\n"
     ]
    },
    {
     "data": {
      "text/plain": [
       "True"
      ]
     },
     "execution_count": 15,
     "metadata": {},
     "output_type": "execute_result"
    }
   ],
   "source": [
    "# Baixar recursos necessários do NLTK\n",
    "nltk.download('punkt')                      # Conjunto de modelos para tokenização de palavras e frases.\n",
    "nltk.download('stopwords')                  # Conjunto de listas de stopwords (palavras comuns) em vários idiomas.\n",
    "nltk.download('wordnet')                    # Conjunto de sinônimos em inglês, usado para lematização.\n",
    "nltk.download('omw-1.4')                    # Para suporte multilíngue\n",
    "nltk.download('averaged_perceptron_tagger') # Modelo para rotulação gramatical de palavras (POS tagging)"
   ]
  },
  {
   "cell_type": "markdown",
   "metadata": {},
   "source": [
    "Tokenização é o processo de dividir um texto em unidades menores chamadas tokens. Em processamento de linguagem natural (NLP), tokens geralmente são palavras, mas também podem ser frases, caracteres ou outros elementos significativos. A tokenização é uma etapa fundamental na análise de texto, pois permite que o texto seja manipulado e analisado em partes que são mais fáceis de processar."
   ]
  },
  {
   "cell_type": "code",
   "execution_count": 17,
   "metadata": {},
   "outputs": [
    {
     "name": "stdout",
     "output_type": "stream",
     "text": [
      "Exemplos de Tokenização em Sentenças:\n",
      "['Olá!', 'Eu sou um chatbot.', 'Como posso ajudá-lo hoje?']\n"
     ]
    }
   ],
   "source": [
    "# Texto de exemplo\n",
    "texto = \"Olá! Eu sou um chatbot. Como posso ajudá-lo hoje?\"\n",
    "\n",
    "# Tokenização em sentenças\n",
    "sentencas = sent_tokenize(texto)\n",
    "print(\"Exemplos de Tokenização em Sentenças:\")\n",
    "print(sentencas)"
   ]
  },
  {
   "cell_type": "code",
   "execution_count": 31,
   "metadata": {},
   "outputs": [
    {
     "name": "stdout",
     "output_type": "stream",
     "text": [
      "\n",
      "Exemplos de Tokenização em Palavras:\n",
      "['Olá', '!', 'Eu', 'sou', 'um', 'chatbot', '.', 'Como', 'posso', 'ajudá-lo', 'hoje', '?']\n"
     ]
    }
   ],
   "source": [
    "# Texto de exemplo\n",
    "texto = \"Olá! Eu sou um chatbot. Como posso ajudá-lo hoje?\"\n",
    "\n",
    "# Tokenização em palavras\n",
    "palavras = word_tokenize(texto)\n",
    "print(\"\\nExemplos de Tokenização em Palavras:\")\n",
    "print(palavras)"
   ]
  },
  {
   "cell_type": "code",
   "execution_count": 34,
   "metadata": {},
   "outputs": [
    {
     "name": "stdout",
     "output_type": "stream",
     "text": [
      "[('Olá', 'NN'), ('!', '.'), ('Eu', 'NNP'), ('sou', 'VBD'), ('um', 'JJ'), ('chatbot', 'NN'), ('.', '.'), ('Como', 'NNP'), ('posso', 'JJ'), ('ajudá-lo', 'JJ'), ('hoje', 'NN'), ('?', '.')]\n"
     ]
    }
   ],
   "source": [
    "# Tagging das partes do discurso (POS tagging)\n",
    "tagged = nltk.pos_tag(palavras)\n",
    "\n",
    "print(\"\\nExemplos de tagging:\")\n",
    "print(tagged)"
   ]
  },
  {
   "cell_type": "markdown",
   "metadata": {},
   "source": [
    "Stop words são palavras que são frequentemente removidas de textos durante o processamento de linguagem natural (NLP) e outras tarefas de análise de texto. Essas palavras são consideradas \"stop words\" porque, em muitos contextos, elas são de pouca relevância para a análise de significado e, portanto, podem ser ignoradas para melhorar a eficiência e a precisão da análise.\n",
    "\n",
    "Exemplos de Stop Words\n",
    "Stop words geralmente incluem palavras comuns, como:\n",
    "\n",
    "Artigos: \"o\", \"a\", \"um\", \"uma\"\n",
    "Preposições: \"em\", \"para\", \"de\", \"com\"\n",
    "Conjunções: \"e\", \"ou\", \"mas\"\n",
    "Pronomes: \"ele\", \"ela\", \"isso\", \"aquilo\"\n",
    "Por Que Usar Stop Words?\n",
    "Redução de Ruído: Stop words são muitas vezes removidas porque elas aparecem com alta frequência em quase todos os textos e não adicionam valor significativo ao contexto ou à análise.\n",
    "\n",
    "Melhoria na Performance: Remover stop words pode ajudar a reduzir a quantidade de dados a serem processados, o que pode melhorar o desempenho de algoritmos de aprendizado de máquina e técnicas de recuperação de informações.\n",
    "\n",
    "Foco em Palavras Significativas: Ao remover stop words, você pode se concentrar mais nas palavras que realmente carregam o significado do texto."
   ]
  },
  {
   "cell_type": "code",
   "execution_count": 19,
   "metadata": {},
   "outputs": [
    {
     "name": "stdout",
     "output_type": "stream",
     "text": [
      "Exemplos de stopwords em português:\n",
      "['teus', 'fôssemos', 'houvermos', 'e', 'há', 'tuas', 'dele', 'houverá', 'formos', 'houveria']\n"
     ]
    }
   ],
   "source": [
    "# Obter stopwords em português\n",
    "stop_words = set(stopwords.words('portuguese'))\n",
    "\n",
    "# Imprimir algumas stopwords em português\n",
    "print(\"Exemplos de stopwords em português:\")\n",
    "print(list(stop_words)[:10])  # Exibe as 10 primeiras stopwords"
   ]
  },
  {
   "cell_type": "code",
   "execution_count": null,
   "metadata": {},
   "outputs": [],
   "source": [
    "# Obter sinônimos de uma palavra\n",
    "sinonimos = wordnet.synsets(\"chatbot\")\n",
    "\n",
    "print(\"Exemplos de Sinonímia para 'chatbot':\")\n",
    "for sinonimo in sinonimos:\n",
    "    print(sinonimo.name(), \"-> Definição:\", sinonimo.definition())\n",
    "\n",
    "# Exibir as palavras associadas ao primeiro sinônimo encontrado\n",
    "print(\"\\nPalavras associadas ao primeiro sinônimo:\")\n",
    "print(sinonimos[0].lemma_names())"
   ]
  },
  {
   "cell_type": "code",
   "execution_count": 35,
   "metadata": {},
   "outputs": [
    {
     "name": "stdout",
     "output_type": "stream",
     "text": [
      "Tokens sem Stopwords:\n",
      "['Olá', '!', 'chatbot', '.', 'posso', 'ajudá-lo', 'hoje', '?']\n"
     ]
    }
   ],
   "source": [
    "# Remoção de Stopwords\n",
    "stop_words = set(stopwords.words('portuguese'))\n",
    "tokens_sem_stopwords = [word for word in palavras if word.lower() not in stop_words]\n",
    "print(\"Tokens sem Stopwords:\")\n",
    "print(tokens_sem_stopwords)"
   ]
  },
  {
   "cell_type": "markdown",
   "metadata": {},
   "source": [
    "A lematização (ou lemmatization) é uma técnica de processamento de linguagem natural (PLN) que transforma palavras na sua forma básica ou \"lema\". O objetivo é reduzir palavras flexionadas ou derivadas à sua forma dicionária, preservando o significado. Ao contrário do stemming, que simplesmente remove sufixos para reduzir uma palavra, a lematização leva em conta o contexto e a função gramatical.\n",
    "\n",
    "Como Funciona a Lematização?\n",
    "A lematização usa informações sobre o contexto gramatical e as regras linguísticas para transformar uma palavra. Por exemplo:\n",
    "\n",
    "Correr, correndo, correu → correr (verbo no infinitivo)\n",
    "Meninos, menino → menino (substantivo no singular)\n",
    "Para isso, a lematização precisa identificar a função gramatical da palavra (como substantivo, verbo, etc.), pois o mesmo termo pode ter diferentes lemas dependendo do contexto.\n",
    "\n",
    "Diferença Entre Stemming e Lematização\n",
    "Stemming: Reduz as palavras removendo sufixos ou prefixos, muitas vezes resultando em formas truncadas e sem sentido. Exemplo: \"amigos\" → \"amig\".\n",
    "Lematização: Converte as palavras para o lema correto, resultando em formas linguísticas corretas. Exemplo: \"amigos\" → \"amigo\"."
   ]
  },
  {
   "cell_type": "code",
   "execution_count": 23,
   "metadata": {},
   "outputs": [
    {
     "name": "stdout",
     "output_type": "stream",
     "text": [
      "Tokens Lematizados:\n",
      "['Olá', '!', 'chatbot', '.', 'posso', 'ajudá-lo', 'hoje', '?']\n"
     ]
    }
   ],
   "source": [
    "# Lematização\n",
    "lemmatizer = WordNetLemmatizer()\n",
    "tokens_lemmatizados = [lemmatizer.lemmatize(word) for word in tokens_sem_stopwords]\n",
    "print(\"Tokens Lematizados:\")\n",
    "print(tokens_lemmatizados)"
   ]
  },
  {
   "cell_type": "markdown",
   "metadata": {},
   "source": []
  }
 ],
 "metadata": {
  "kernelspec": {
   "display_name": "myenv",
   "language": "python",
   "name": "python3"
  },
  "language_info": {
   "codemirror_mode": {
    "name": "ipython",
    "version": 3
   },
   "file_extension": ".py",
   "mimetype": "text/x-python",
   "name": "python",
   "nbconvert_exporter": "python",
   "pygments_lexer": "ipython3",
   "version": "3.11.5"
  }
 },
 "nbformat": 4,
 "nbformat_minor": 2
}
