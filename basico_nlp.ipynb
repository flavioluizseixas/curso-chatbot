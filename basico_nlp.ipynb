{
 "cells": [
  {
   "cell_type": "code",
   "execution_count": 3,
   "metadata": {},
   "outputs": [],
   "source": [
    "import nltk\n",
    "from nltk.tokenize import word_tokenize\n",
    "from nltk.corpus import stopwords\n",
    "from nltk.stem import WordNetLemmatizer"
   ]
  },
  {
   "cell_type": "code",
   "execution_count": 4,
   "metadata": {},
   "outputs": [
    {
     "name": "stderr",
     "output_type": "stream",
     "text": [
      "[nltk_data] Downloading package punkt to /home/flavio/nltk_data...\n",
      "[nltk_data]   Package punkt is already up-to-date!\n",
      "[nltk_data] Downloading package stopwords to /home/flavio/nltk_data...\n",
      "[nltk_data]   Unzipping corpora/stopwords.zip.\n",
      "[nltk_data] Downloading package wordnet to /home/flavio/nltk_data...\n"
     ]
    },
    {
     "data": {
      "text/plain": [
       "True"
      ]
     },
     "execution_count": 4,
     "metadata": {},
     "output_type": "execute_result"
    }
   ],
   "source": [
    "# Baixar recursos necessários do NLTK\n",
    "nltk.download('punkt')\n",
    "nltk.download('stopwords')\n",
    "nltk.download('wordnet')"
   ]
  },
  {
   "cell_type": "code",
   "execution_count": 5,
   "metadata": {},
   "outputs": [],
   "source": [
    "# Texto de exemplo\n",
    "texto = \"Olá! Eu sou um chatbot. Como posso ajudá-lo hoje?\""
   ]
  },
  {
   "cell_type": "markdown",
   "metadata": {},
   "source": [
    "Tokenização é o processo de dividir um texto em unidades menores chamadas tokens. Em processamento de linguagem natural (NLP), tokens geralmente são palavras, mas também podem ser frases, caracteres ou outros elementos significativos. A tokenização é uma etapa fundamental na análise de texto, pois permite que o texto seja manipulado e analisado em partes que são mais fáceis de processar."
   ]
  },
  {
   "cell_type": "code",
   "execution_count": 6,
   "metadata": {},
   "outputs": [
    {
     "name": "stdout",
     "output_type": "stream",
     "text": [
      "Tokens:\n",
      "['Olá', '!', 'Eu', 'sou', 'um', 'chatbot', '.', 'Como', 'posso', 'ajudá-lo', 'hoje', '?']\n"
     ]
    }
   ],
   "source": [
    "# Tokenização\n",
    "tokens = word_tokenize(texto)\n",
    "print(\"Tokens:\")\n",
    "print(tokens)"
   ]
  },
  {
   "cell_type": "markdown",
   "metadata": {},
   "source": [
    "Stop words são palavras que são frequentemente removidas de textos durante o processamento de linguagem natural (NLP) e outras tarefas de análise de texto. Essas palavras são consideradas \"stop words\" porque, em muitos contextos, elas são de pouca relevância para a análise de significado e, portanto, podem ser ignoradas para melhorar a eficiência e a precisão da análise.\n",
    "\n",
    "Exemplos de Stop Words\n",
    "Stop words geralmente incluem palavras comuns, como:\n",
    "\n",
    "Artigos: \"o\", \"a\", \"um\", \"uma\"\n",
    "Preposições: \"em\", \"para\", \"de\", \"com\"\n",
    "Conjunções: \"e\", \"ou\", \"mas\"\n",
    "Pronomes: \"ele\", \"ela\", \"isso\", \"aquilo\"\n",
    "Por Que Usar Stop Words?\n",
    "Redução de Ruído: Stop words são muitas vezes removidas porque elas aparecem com alta frequência em quase todos os textos e não adicionam valor significativo ao contexto ou à análise.\n",
    "\n",
    "Melhoria na Performance: Remover stop words pode ajudar a reduzir a quantidade de dados a serem processados, o que pode melhorar o desempenho de algoritmos de aprendizado de máquina e técnicas de recuperação de informações.\n",
    "\n",
    "Foco em Palavras Significativas: Ao remover stop words, você pode se concentrar mais nas palavras que realmente carregam o significado do texto."
   ]
  },
  {
   "cell_type": "code",
   "execution_count": 7,
   "metadata": {},
   "outputs": [
    {
     "name": "stdout",
     "output_type": "stream",
     "text": [
      "Tokens sem Stopwords:\n",
      "['Olá', '!', 'chatbot', '.', 'posso', 'ajudá-lo', 'hoje', '?']\n"
     ]
    }
   ],
   "source": [
    "# Remoção de Stopwords\n",
    "stop_words = set(stopwords.words('portuguese'))\n",
    "tokens_sem_stopwords = [word for word in tokens if word.lower() not in stop_words]\n",
    "print(\"Tokens sem Stopwords:\")\n",
    "print(tokens_sem_stopwords)"
   ]
  },
  {
   "cell_type": "code",
   "execution_count": 8,
   "metadata": {},
   "outputs": [
    {
     "name": "stdout",
     "output_type": "stream",
     "text": [
      "Tokens Lematizados:\n",
      "['Olá', '!', 'chatbot', '.', 'posso', 'ajudá-lo', 'hoje', '?']\n"
     ]
    }
   ],
   "source": [
    "# Lematização\n",
    "lemmatizer = WordNetLemmatizer()\n",
    "tokens_lemmatizados = [lemmatizer.lemmatize(word) for word in tokens_sem_stopwords]\n",
    "print(\"Tokens Lematizados:\")\n",
    "print(tokens_lemmatizados)"
   ]
  }
 ],
 "metadata": {
  "kernelspec": {
   "display_name": "myenv",
   "language": "python",
   "name": "python3"
  },
  "language_info": {
   "codemirror_mode": {
    "name": "ipython",
    "version": 3
   },
   "file_extension": ".py",
   "mimetype": "text/x-python",
   "name": "python",
   "nbconvert_exporter": "python",
   "pygments_lexer": "ipython3",
   "version": "3.9.19"
  }
 },
 "nbformat": 4,
 "nbformat_minor": 2
}
